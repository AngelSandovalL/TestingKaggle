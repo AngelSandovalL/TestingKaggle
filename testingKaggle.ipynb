{
 "cells": [
  {
   "cell_type": "code",
   "execution_count": 2,
   "id": "21bcc74b",
   "metadata": {},
   "outputs": [
    {
     "name": "stdout",
     "output_type": "stream",
     "text": [
      "Defaulting to user installation because normal site-packages is not writeable\n",
      "Collecting kagglehub[pandas-datasets]\n",
      "  Downloading kagglehub-0.3.13-py3-none-any.whl.metadata (38 kB)\n",
      "Requirement already satisfied: packaging in c:\\users\\lange\\appdata\\roaming\\python\\python313\\site-packages (from kagglehub[pandas-datasets]) (25.0)\n",
      "Requirement already satisfied: pyyaml in c:\\users\\lange\\appdata\\roaming\\python\\python313\\site-packages (from kagglehub[pandas-datasets]) (6.0.2)\n",
      "Requirement already satisfied: requests in c:\\users\\lange\\appdata\\roaming\\python\\python313\\site-packages (from kagglehub[pandas-datasets]) (2.32.3)\n",
      "Requirement already satisfied: tqdm in c:\\users\\lange\\appdata\\roaming\\python\\python313\\site-packages (from kagglehub[pandas-datasets]) (4.67.1)\n",
      "Requirement already satisfied: pandas in c:\\users\\lange\\appdata\\roaming\\python\\python313\\site-packages (from kagglehub[pandas-datasets]) (2.3.1)\n",
      "Requirement already satisfied: numpy>=1.26.0 in c:\\users\\lange\\appdata\\roaming\\python\\python313\\site-packages (from pandas->kagglehub[pandas-datasets]) (2.3.2)\n",
      "Requirement already satisfied: python-dateutil>=2.8.2 in c:\\users\\lange\\appdata\\roaming\\python\\python313\\site-packages (from pandas->kagglehub[pandas-datasets]) (2.9.0.post0)\n",
      "Requirement already satisfied: pytz>=2020.1 in c:\\users\\lange\\appdata\\roaming\\python\\python313\\site-packages (from pandas->kagglehub[pandas-datasets]) (2025.2)\n",
      "Requirement already satisfied: tzdata>=2022.7 in c:\\users\\lange\\appdata\\roaming\\python\\python313\\site-packages (from pandas->kagglehub[pandas-datasets]) (2025.2)\n",
      "Requirement already satisfied: six>=1.5 in c:\\users\\lange\\appdata\\roaming\\python\\python313\\site-packages (from python-dateutil>=2.8.2->pandas->kagglehub[pandas-datasets]) (1.17.0)\n",
      "Requirement already satisfied: charset-normalizer<4,>=2 in c:\\users\\lange\\appdata\\roaming\\python\\python313\\site-packages (from requests->kagglehub[pandas-datasets]) (3.4.2)\n",
      "Requirement already satisfied: idna<4,>=2.5 in c:\\users\\lange\\appdata\\roaming\\python\\python313\\site-packages (from requests->kagglehub[pandas-datasets]) (3.10)\n",
      "Requirement already satisfied: urllib3<3,>=1.21.1 in c:\\users\\lange\\appdata\\roaming\\python\\python313\\site-packages (from requests->kagglehub[pandas-datasets]) (2.4.0)\n",
      "Requirement already satisfied: certifi>=2017.4.17 in c:\\users\\lange\\appdata\\roaming\\python\\python313\\site-packages (from requests->kagglehub[pandas-datasets]) (2025.4.26)\n",
      "Requirement already satisfied: colorama in c:\\users\\lange\\appdata\\roaming\\python\\python313\\site-packages (from tqdm->kagglehub[pandas-datasets]) (0.4.6)\n",
      "Downloading kagglehub-0.3.13-py3-none-any.whl (68 kB)\n",
      "Installing collected packages: kagglehub\n",
      "Successfully installed kagglehub-0.3.13\n",
      "Note: you may need to restart the kernel to use updated packages.\n"
     ]
    }
   ],
   "source": [
    "pip install kagglehub[pandas-datasets]"
   ]
  },
  {
   "cell_type": "code",
   "execution_count": null,
   "id": "84d97877",
   "metadata": {},
   "outputs": [],
   "source": [
    "import pandas as pd \n",
    "df = pd.read_csv('MFG10YearTerminationData.csv')\n",
    "print(df.head())"
   ]
  }
 ],
 "metadata": {
  "kernelspec": {
   "display_name": "Python 3",
   "language": "python",
   "name": "python3"
  },
  "language_info": {
   "codemirror_mode": {
    "name": "ipython",
    "version": 3
   },
   "file_extension": ".py",
   "mimetype": "text/x-python",
   "name": "python",
   "nbconvert_exporter": "python",
   "pygments_lexer": "ipython3",
   "version": "3.13.4"
  }
 },
 "nbformat": 4,
 "nbformat_minor": 5
}
