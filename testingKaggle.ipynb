{
 "cells": [
  {
   "cell_type": "markdown",
   "id": "318838f0",
   "metadata": {},
   "source": [
    "Run the following on the CLI to retrieive dataset\n",
    "kaggle datasets download -d HRAnalyticRepository/employee-attrition-data --unzip -p \"./DataSet\""
   ]
  },
  {
   "cell_type": "code",
   "execution_count": 1,
   "id": "84d97877",
   "metadata": {},
   "outputs": [
    {
     "name": "stdout",
     "output_type": "stream",
     "text": [
      "   EmployeeID   recorddate_key birthdate_key orighiredate_key  \\\n",
      "0        1318  12/31/2006 0:00      1/3/1954        8/28/1989   \n",
      "1        1318  12/31/2007 0:00      1/3/1954        8/28/1989   \n",
      "2        1318  12/31/2008 0:00      1/3/1954        8/28/1989   \n",
      "3        1318  12/31/2009 0:00      1/3/1954        8/28/1989   \n",
      "4        1318  12/31/2010 0:00      1/3/1954        8/28/1989   \n",
      "\n",
      "  terminationdate_key  age  length_of_service  city_name department_name  \\\n",
      "0            1/1/1900   52                 17  Vancouver       Executive   \n",
      "1            1/1/1900   53                 18  Vancouver       Executive   \n",
      "2            1/1/1900   54                 19  Vancouver       Executive   \n",
      "3            1/1/1900   55                 20  Vancouver       Executive   \n",
      "4            1/1/1900   56                 21  Vancouver       Executive   \n",
      "\n",
      "  job_title  store_name gender_short gender_full termreason_desc  \\\n",
      "0       CEO          35            M        Male  Not Applicable   \n",
      "1       CEO          35            M        Male  Not Applicable   \n",
      "2       CEO          35            M        Male  Not Applicable   \n",
      "3       CEO          35            M        Male  Not Applicable   \n",
      "4       CEO          35            M        Male  Not Applicable   \n",
      "\n",
      "    termtype_desc  STATUS_YEAR  STATUS BUSINESS_UNIT  \n",
      "0  Not Applicable         2006  ACTIVE    HEADOFFICE  \n",
      "1  Not Applicable         2007  ACTIVE    HEADOFFICE  \n",
      "2  Not Applicable         2008  ACTIVE    HEADOFFICE  \n",
      "3  Not Applicable         2009  ACTIVE    HEADOFFICE  \n",
      "4  Not Applicable         2010  ACTIVE    HEADOFFICE  \n"
     ]
    }
   ],
   "source": [
    "import pandas as pd \n",
    "df = pd.read_csv('./DataSet/MFG10YearTerminationData.csv')\n",
    "print(df.head())"
   ]
  }
 ],
 "metadata": {
  "kernelspec": {
   "display_name": "testingKaggle",
   "language": "python",
   "name": "python3"
  },
  "language_info": {
   "codemirror_mode": {
    "name": "ipython",
    "version": 3
   },
   "file_extension": ".py",
   "mimetype": "text/x-python",
   "name": "python",
   "nbconvert_exporter": "python",
   "pygments_lexer": "ipython3",
   "version": "3.13.5"
  }
 },
 "nbformat": 4,
 "nbformat_minor": 5
}
